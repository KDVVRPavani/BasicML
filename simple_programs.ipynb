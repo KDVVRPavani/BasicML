{
  "nbformat": 4,
  "nbformat_minor": 0,
  "metadata": {
    "colab": {
      "name": "simple programs.ipynb",
      "provenance": [],
      "authorship_tag": "ABX9TyOJKQ4xmgXAzYMLE/80J0/h",
      "include_colab_link": true
    },
    "kernelspec": {
      "name": "python3",
      "display_name": "Python 3"
    },
    "language_info": {
      "name": "python"
    }
  },
  "cells": [
    {
      "cell_type": "markdown",
      "metadata": {
        "id": "view-in-github",
        "colab_type": "text"
      },
      "source": [
        "<a href=\"https://colab.research.google.com/github/KDVVRPavani/BasicML/blob/main/simple_programs.ipynb\" target=\"_parent\"><img src=\"https://colab.research.google.com/assets/colab-badge.svg\" alt=\"Open In Colab\"/></a>"
      ]
    },
    {
      "cell_type": "markdown",
      "metadata": {
        "id": "ajNPkawfjHnE"
      },
      "source": [
        "**1.Program to find whether the given number is even or odd**"
      ]
    },
    {
      "cell_type": "code",
      "metadata": {
        "id": "Phr8LlaOiYAO"
      },
      "source": [
        "n=int(input(\"Enter a number to find:\"))\n",
        "if(n%2==0):\n",
        "  print(n,\"is an even number.\")\n",
        "else:\n",
        "  print(n,\"is an odd number.\")"
      ],
      "execution_count": null,
      "outputs": []
    },
    {
      "cell_type": "markdown",
      "metadata": {
        "id": "d2ttaRewk75B"
      },
      "source": [
        "**2.Program to find sum of two numbers**"
      ]
    },
    {
      "cell_type": "code",
      "metadata": {
        "id": "IimbUj8SlFUH"
      },
      "source": [
        "a=int(input(\"Enter first number: \"))\n",
        "b=int(input(\"Enter second number:\"))\n",
        "sum=a+b\n",
        "print(sum,\"is the sum of given two numbers.\")"
      ],
      "execution_count": null,
      "outputs": []
    },
    {
      "cell_type": "markdown",
      "metadata": {
        "id": "hBgD972-moRo"
      },
      "source": [
        "**3.Program to print whether the given number is positive or negative.**"
      ]
    },
    {
      "cell_type": "code",
      "metadata": {
        "id": "sCP84QwYnbZh"
      },
      "source": [
        "a=i1nt(input(\"Enter any number:\"))\n",
        "if (a>0):\n",
        "  print(\"The given number is a positive number.\")\n",
        "elif (a<0):\n",
        "  print(\"The given number is a negative number.\")\n",
        "else:\n",
        "  print(\"The given number is neither positive nor negative.\")\n",
        "\n"
      ],
      "execution_count": null,
      "outputs": []
    }
  ]
}